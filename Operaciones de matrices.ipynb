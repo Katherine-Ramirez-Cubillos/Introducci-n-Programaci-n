{
 "cells": [
  {
   "cell_type": "code",
   "execution_count": 2,
   "metadata": {},
   "outputs": [
    {
     "name": "stdout",
     "output_type": "stream",
     "text": [
      "Ingrese la posición 0 del primer vector\n"
     ]
    },
    {
     "name": "stdin",
     "output_type": "stream",
     "text": [
      " 32\n"
     ]
    },
    {
     "name": "stdout",
     "output_type": "stream",
     "text": [
      "Ingrese la posición 1 del primer vector\n"
     ]
    },
    {
     "name": "stdin",
     "output_type": "stream",
     "text": [
      " 45\n"
     ]
    },
    {
     "name": "stdout",
     "output_type": "stream",
     "text": [
      "Ingrese la posición 2 del primer vector\n"
     ]
    },
    {
     "name": "stdin",
     "output_type": "stream",
     "text": [
      " 68\n"
     ]
    },
    {
     "name": "stdout",
     "output_type": "stream",
     "text": [
      "Ingrese la posición 3 del primer vector\n"
     ]
    },
    {
     "name": "stdin",
     "output_type": "stream",
     "text": [
      " 79\n"
     ]
    },
    {
     "name": "stdout",
     "output_type": "stream",
     "text": [
      "Ingrese la posición 0 del segundo vector\n"
     ]
    },
    {
     "name": "stdin",
     "output_type": "stream",
     "text": [
      " 29\n"
     ]
    },
    {
     "name": "stdout",
     "output_type": "stream",
     "text": [
      "Ingrese la posición 1 del segundo vector\n"
     ]
    },
    {
     "name": "stdin",
     "output_type": "stream",
     "text": [
      " 18\n"
     ]
    },
    {
     "name": "stdout",
     "output_type": "stream",
     "text": [
      "Ingrese la posición 2 del segundo vector\n"
     ]
    },
    {
     "name": "stdin",
     "output_type": "stream",
     "text": [
      " 86\n"
     ]
    },
    {
     "name": "stdout",
     "output_type": "stream",
     "text": [
      "Ingrese la posición 3 del segundo vector\n"
     ]
    },
    {
     "name": "stdin",
     "output_type": "stream",
     "text": [
      " 94\n"
     ]
    },
    {
     "name": "stdout",
     "output_type": "stream",
     "text": [
      "El vector suma es: \n",
      "61\n",
      "63\n",
      "154\n",
      "173\n",
      "El produto vectorial es: 15012\n",
      "La norma del vector 1 es: 117.957619508025\n",
      "La norma del vector 1 es: 131.89768762188365\n"
     ]
    }
   ],
   "source": [
    "import math as mt\n",
    "import numpy as np\n",
    "\n",
    "vector1 = [0 for x in range(4)]\n",
    "vector2 = [0 for x in range(4)]\n",
    "normaV1 = 0\n",
    "normaV2 = 0\n",
    "\n",
    "for i in range(4): \n",
    "    print(\"Ingrese la posición \"+str(i)+\" del primer vector\")\n",
    "    vector1[i] = int(input())\n",
    "\n",
    "for i in range(4): \n",
    "    print(\"Ingrese la posición \"+str(i)+\" del segundo vector\")\n",
    "    vector2[i] = int(input())\n",
    "\n",
    "\n",
    "vectorsuma = [0 for x in range(4)]\n",
    "\n",
    "print(\"El vector suma es: \")\n",
    "for i in range(4): \n",
    "    vectorsuma[i] = vector1[i] + vector2[i]\n",
    "    print(str(vectorsuma[i]))\n",
    "\n",
    "vectorial = 0\n",
    "\n",
    "for i in range(4):\n",
    "    vectorial = vectorial + vector1[i] * vector2[i]\n",
    "\n",
    "print(\"El produto vectorial es: \"+str(vectorial))\n",
    "\n",
    "norma = 0\n",
    "\n",
    "for i in range(4):\n",
    "    normaV1 = mt.sqrt(normaV1 +vector1[i]**2)\n",
    "    norma1 = np.linalg.norm(vector1)\n",
    "    normaV2 = (normaV1 +vector1[i]**2)**(1/2)\n",
    "    norma2 = np.linalg.norm(vector2)\n",
    "    \n",
    "    \n",
    "print(\"La norma del vector 1 es: \"+str(norma1)) \n",
    "print(\"La norma del vector 1 es: \"+str(norma2)) \n"
   ]
  }
 ],
 "metadata": {
  "kernelspec": {
   "display_name": "Python 3",
   "language": "python",
   "name": "python3"
  },
  "language_info": {
   "codemirror_mode": {
    "name": "ipython",
    "version": 3
   },
   "file_extension": ".py",
   "mimetype": "text/x-python",
   "name": "python",
   "nbconvert_exporter": "python",
   "pygments_lexer": "ipython3",
   "version": "3.7.3"
  }
 },
 "nbformat": 4,
 "nbformat_minor": 4
}
