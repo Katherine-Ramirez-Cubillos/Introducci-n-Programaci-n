{
 "cells": [
  {
   "cell_type": "code",
   "execution_count": 1,
   "metadata": {},
   "outputs": [
    {
     "name": "stdin",
     "output_type": "stream",
     "text": [
      "Ingrese el número de filas\n",
      " 3\n",
      "Ingrese el número de coumnas\n",
      " 3\n"
     ]
    },
    {
     "name": "stdout",
     "output_type": "stream",
     "text": [
      "Ingrese la posición 0,0\n"
     ]
    },
    {
     "name": "stdin",
     "output_type": "stream",
     "text": [
      " 1\n"
     ]
    },
    {
     "name": "stdout",
     "output_type": "stream",
     "text": [
      "Ingrese la posición 0,1\n"
     ]
    },
    {
     "name": "stdin",
     "output_type": "stream",
     "text": [
      " 2\n"
     ]
    },
    {
     "name": "stdout",
     "output_type": "stream",
     "text": [
      "Ingrese la posición 0,2\n"
     ]
    },
    {
     "name": "stdin",
     "output_type": "stream",
     "text": [
      " 3\n"
     ]
    },
    {
     "name": "stdout",
     "output_type": "stream",
     "text": [
      "Ingrese la posición 1,0\n"
     ]
    },
    {
     "name": "stdin",
     "output_type": "stream",
     "text": [
      " 0\n"
     ]
    },
    {
     "name": "stdout",
     "output_type": "stream",
     "text": [
      "Ingrese la posición 1,1\n"
     ]
    },
    {
     "name": "stdin",
     "output_type": "stream",
     "text": [
      " 0\n"
     ]
    },
    {
     "name": "stdout",
     "output_type": "stream",
     "text": [
      "Ingrese la posición 1,2\n"
     ]
    },
    {
     "name": "stdin",
     "output_type": "stream",
     "text": [
      " 6\n"
     ]
    },
    {
     "name": "stdout",
     "output_type": "stream",
     "text": [
      "Ingrese la posición 2,0\n"
     ]
    },
    {
     "name": "stdin",
     "output_type": "stream",
     "text": [
      " 0\n"
     ]
    },
    {
     "name": "stdout",
     "output_type": "stream",
     "text": [
      "Ingrese la posición 2,1\n"
     ]
    },
    {
     "name": "stdin",
     "output_type": "stream",
     "text": [
      " 0\n"
     ]
    },
    {
     "name": "stdout",
     "output_type": "stream",
     "text": [
      "Ingrese la posición 2,2\n"
     ]
    },
    {
     "name": "stdin",
     "output_type": "stream",
     "text": [
      " 0\n"
     ]
    },
    {
     "name": "stdout",
     "output_type": "stream",
     "text": [
      "La matriz era triangular\n"
     ]
    }
   ],
   "source": [
    "#se lee la dimensión de la matriz\n",
    "# aqui la instruccion int(-) lo que hace es convertir en un numero lo que pongan a la entrada\n",
    "f = int(input(\"Ingrese el número de filas\\n\"))\n",
    "c = int(input(\"Ingrese el número de coumnas\\n\"))\n",
    "matriz = []\n",
    "\n",
    "#Las dimensiones de la matriz deben ser positivas\n",
    "if f & c>0:\n",
    "    # se comprueba si la matriz es cuadrada\n",
    "    if f==c:\n",
    "        # se crea la matriz con ceros\n",
    "        matriz = [[0 for x in range(f)] for y in range(c)]\n",
    "        \n",
    "        #se lee las entradas de la matriz\n",
    "        for i in range(f): \n",
    "            for j in range(c): \n",
    "                # de la misma manera str(-) convierte en cadena lo que se ponga\n",
    "                print(\"Ingrese la posición \"+str(i)+\",\"+str(j))\n",
    "                matriz[i][j] = int(input())\n",
    "                \n",
    "        # en un principio se asume que la matriz es triangular y se busca confirmar que si lo es\n",
    "        es_triangular = True\n",
    "        \n",
    "        #para ello se van mirando las entradas columna a columna por debajo de la diagonal\n",
    "        for i in range(f):\n",
    "            for j in range(i+1,c):\n",
    "                if matriz[j][i] != 0 :\n",
    "                    es_triangular = False\n",
    "                    \n",
    "        if es_triangular :\n",
    "            print(\"La matriz era triangular\")\n",
    "        else: \n",
    "            print(\"La matriz no era triangular\")\n",
    "            \n",
    "    else:\n",
    "        print(\"Error en la dimensión de la matriz. La matriz debe ser cuadrada\")\n",
    "else:\n",
    "    print(\"Error en la dimensión de la matriz. Los números deben ser positivos\")    \n",
    "    \n"
   ]
  },
  {
   "cell_type": "code",
   "execution_count": null,
   "metadata": {},
   "outputs": [],
   "source": []
  }
 ],
 "metadata": {
  "kernelspec": {
   "display_name": "Python 3",
   "language": "python",
   "name": "python3"
  },
  "language_info": {
   "codemirror_mode": {
    "name": "ipython",
    "version": 3
   },
   "file_extension": ".py",
   "mimetype": "text/x-python",
   "name": "python",
   "nbconvert_exporter": "python",
   "pygments_lexer": "ipython3",
   "version": "3.7.3"
  }
 },
 "nbformat": 4,
 "nbformat_minor": 4
}
